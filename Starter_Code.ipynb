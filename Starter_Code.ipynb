{
 "cells": [
  {
   "cell_type": "markdown",
   "metadata": {},
   "source": [
    "## Load Data from CSVs"
   ]
  },
  {
   "cell_type": "code",
   "execution_count": 1,
   "metadata": {},
   "outputs": [],
   "source": [
    "import unicodecsv\n",
    "\n",
    "## Longer version of code (replaced with shorter, equivalent version below)\n",
    "\n",
    "# enrollments = []\n",
    "# f = open('enrollments.csv', 'rb')\n",
    "# reader = unicodecsv.DictReader(f)\n",
    "# for row in reader:\n",
    "#     enrollments.append(row)\n",
    "# f.close()\n",
    "\n",
    "with open('enrollments.csv', 'rb') as f:\n",
    "    reader = unicodecsv.DictReader(f)\n",
    "    enrollments = list(reader)"
   ]
  },
  {
   "cell_type": "code",
   "execution_count": 2,
   "metadata": {},
   "outputs": [],
   "source": [
    "#####################################\n",
    "#                 1                 #\n",
    "#####################################\n",
    "\n",
    "## Read in the data from daily_engagement.csv and project_submissions.csv \n",
    "## and store the results in the below variables.\n",
    "## Then look at the first row of each table.\n",
    "with open('daily_engagement.csv','rb') as f:\n",
    "    reader = unicodecsv.DictReader(f)\n",
    "    daily_engagement = list(reader)\n",
    "with open('project_submissions.csv','rb') as f:\n",
    "    reader = unicodecsv.DictReader(f)\n",
    "    project_submissions = list(reader)"
   ]
  },
  {
   "cell_type": "markdown",
   "metadata": {},
   "source": [
    "## Fixing Data Types"
   ]
  },
  {
   "cell_type": "code",
   "execution_count": 3,
   "metadata": {},
   "outputs": [
    {
     "data": {
      "text/plain": [
       "OrderedDict([('account_key', '448'),\n",
       "             ('status', 'canceled'),\n",
       "             ('join_date', datetime.datetime(2014, 11, 10, 0, 0)),\n",
       "             ('cancel_date', datetime.datetime(2015, 1, 14, 0, 0)),\n",
       "             ('days_to_cancel', 65),\n",
       "             ('is_udacity', True),\n",
       "             ('is_canceled', True)])"
      ]
     },
     "execution_count": 3,
     "metadata": {},
     "output_type": "execute_result"
    }
   ],
   "source": [
    "from datetime import datetime as dt\n",
    "\n",
    "# Takes a date as a string, and returns a Python datetime object. \n",
    "# If there is no date given, returns None\n",
    "def parse_date(date):\n",
    "    if date == '':\n",
    "        return None\n",
    "    else:\n",
    "        return dt.strptime(date, '%Y-%m-%d')\n",
    "    \n",
    "# Takes a string which is either an empty string or represents an integer,\n",
    "# and returns an int or None.\n",
    "def parse_maybe_int(i):\n",
    "    if i == '':\n",
    "        return None\n",
    "    else:\n",
    "        return int(i)\n",
    "\n",
    "# Clean up the data types in the enrollments table\n",
    "for enrollment in enrollments:\n",
    "    enrollment['cancel_date'] = parse_date(enrollment['cancel_date'])\n",
    "    enrollment['days_to_cancel'] = parse_maybe_int(enrollment['days_to_cancel'])\n",
    "    enrollment['is_canceled'] = enrollment['is_canceled'] == 'True'\n",
    "    enrollment['is_udacity'] = enrollment['is_udacity'] == 'True'\n",
    "    enrollment['join_date'] = parse_date(enrollment['join_date'])\n",
    "    \n",
    "enrollments[0]"
   ]
  },
  {
   "cell_type": "code",
   "execution_count": 4,
   "metadata": {},
   "outputs": [
    {
     "data": {
      "text/plain": [
       "OrderedDict([('utc_date', datetime.datetime(2015, 1, 9, 0, 0)),\n",
       "             ('num_courses_visited', 1),\n",
       "             ('total_minutes_visited', 11.6793745),\n",
       "             ('lessons_completed', 0),\n",
       "             ('projects_completed', 0),\n",
       "             ('account_key', '0')])"
      ]
     },
     "execution_count": 4,
     "metadata": {},
     "output_type": "execute_result"
    }
   ],
   "source": [
    "# Clean up the data types in the engagement table\n",
    "for engagement_record in daily_engagement:\n",
    "    engagement_record['lessons_completed'] = int(float(engagement_record['lessons_completed']))\n",
    "    engagement_record['num_courses_visited'] = int(float(engagement_record['num_courses_visited']))\n",
    "    engagement_record['projects_completed'] = int(float(engagement_record['projects_completed']))\n",
    "    engagement_record['total_minutes_visited'] = float(engagement_record['total_minutes_visited'])\n",
    "    try:\n",
    "        engagement_record['utc_date'] = parse_date(engagement_record['utc_date'])\n",
    "    except TypeError:\n",
    "        pass\n",
    "    engagement_record['account_key'] = engagement_record['acct']\n",
    "    del engagement_record['acct']\n",
    "    \n",
    "daily_engagement[0]"
   ]
  },
  {
   "cell_type": "code",
   "execution_count": 5,
   "metadata": {},
   "outputs": [
    {
     "data": {
      "text/plain": [
       "OrderedDict([('creation_date', datetime.datetime(2015, 1, 14, 0, 0)),\n",
       "             ('completion_date', datetime.datetime(2015, 1, 16, 0, 0)),\n",
       "             ('assigned_rating', 'UNGRADED'),\n",
       "             ('account_key', '256'),\n",
       "             ('lesson_key', '3176718735'),\n",
       "             ('processing_state', 'EVALUATED')])"
      ]
     },
     "execution_count": 5,
     "metadata": {},
     "output_type": "execute_result"
    }
   ],
   "source": [
    "# Clean up the data types in the submissions table\n",
    "for submission in project_submissions:\n",
    "    submission['completion_date'] = parse_date(submission['completion_date'])\n",
    "    submission['creation_date'] = parse_date(submission['creation_date'])\n",
    "\n",
    "project_submissions[0]"
   ]
  },
  {
   "cell_type": "markdown",
   "metadata": {},
   "source": [
    "## Investigating the Data"
   ]
  },
  {
   "cell_type": "code",
   "execution_count": 6,
   "metadata": {},
   "outputs": [],
   "source": [
    "#####################################\n",
    "#                 2                 #\n",
    "#####################################\n",
    "\n",
    "## Find the total number of rows and the number of unique students (account keys)\n",
    "## in each table.\n",
    "enroll_key = []\n",
    "for enrollment in enrollments:\n",
    "    if enrollment['account_key'] not in enroll_key:\n",
    "        enroll_key.append(enrollment['account_key'])\n",
    "len(enroll_key)\n",
    "engagement_key = []\n",
    "for engagement in daily_engagement:\n",
    "    if engagement['account_key'] not in engagement_key:\n",
    "        engagement_key.append(engagement['account_key'])\n",
    "\n",
    "\n",
    "\n",
    "\n",
    "\n"
   ]
  },
  {
   "cell_type": "markdown",
   "metadata": {},
   "source": [
    "## Problems in the Data"
   ]
  },
  {
   "cell_type": "code",
   "execution_count": 7,
   "metadata": {},
   "outputs": [],
   "source": [
    "#####################################\n",
    "#                 3                 #\n",
    "#####################################\n",
    "\n",
    "## Rename the \"acct\" column in the daily_engagement table to \"account_key\".\n",
    "\n",
    "for engagement in daily_engagement:\n",
    "    if 'acct' in engagement:\n",
    "        engagement['account_key'] = engagement['acct']\n",
    "        del engagement['acct']"
   ]
  },
  {
   "cell_type": "markdown",
   "metadata": {},
   "source": [
    "## Missing Engagement Records"
   ]
  },
  {
   "cell_type": "code",
   "execution_count": 8,
   "metadata": {},
   "outputs": [
    {
     "name": "stdout",
     "output_type": "stream",
     "text": [
      "OrderedDict([('account_key', '1219'), ('status', 'canceled'), ('join_date', datetime.datetime(2014, 11, 12, 0, 0)), ('cancel_date', datetime.datetime(2014, 11, 12, 0, 0)), ('days_to_cancel', 0), ('is_udacity', False), ('is_canceled', True)])\n"
     ]
    }
   ],
   "source": [
    "#####################################\n",
    "#                 4                 #\n",
    "#####################################\n",
    "\n",
    "## Find any one student enrollments where the student is missing from the daily engagement table.\n",
    "## Output that enrollment.\n",
    "for enrollment in enrollments:\n",
    "    if enrollment['account_key'] not in engagement_key:\n",
    "        print(enrollment)\n",
    "        break"
   ]
  },
  {
   "cell_type": "markdown",
   "metadata": {},
   "source": [
    "## Checking for More Problem Records"
   ]
  },
  {
   "cell_type": "code",
   "execution_count": 9,
   "metadata": {},
   "outputs": [
    {
     "name": "stdout",
     "output_type": "stream",
     "text": [
      "OrderedDict([('account_key', '1304'), ('status', 'canceled'), ('join_date', datetime.datetime(2015, 1, 10, 0, 0)), ('cancel_date', datetime.datetime(2015, 3, 10, 0, 0)), ('days_to_cancel', 59), ('is_udacity', True), ('is_canceled', True)])\n",
      "OrderedDict([('account_key', '1304'), ('status', 'canceled'), ('join_date', datetime.datetime(2015, 3, 10, 0, 0)), ('cancel_date', datetime.datetime(2015, 6, 17, 0, 0)), ('days_to_cancel', 99), ('is_udacity', True), ('is_canceled', True)])\n",
      "OrderedDict([('account_key', '1101'), ('status', 'current'), ('join_date', datetime.datetime(2015, 2, 25, 0, 0)), ('cancel_date', None), ('days_to_cancel', None), ('is_udacity', True), ('is_canceled', False)])\n"
     ]
    }
   ],
   "source": [
    "#####################################\n",
    "#                 5                 #\n",
    "#####################################\n",
    "\n",
    "## Find the number of surprising data points (enrollments missing from\n",
    "## the engagement table) that remain, if any.\n",
    "a = 0\n",
    "for enrollment in enrollments:\n",
    "    if enrollment['account_key'] not in engagement_key and enrollment['days_to_cancel'] != 0:\n",
    "        a = a+1\n",
    "        print(enrollment)\n",
    "\n"
   ]
  },
  {
   "cell_type": "markdown",
   "metadata": {},
   "source": [
    "## Tracking Down the Remaining Problems"
   ]
  },
  {
   "cell_type": "code",
   "execution_count": 10,
   "metadata": {},
   "outputs": [
    {
     "data": {
      "text/plain": [
       "6"
      ]
     },
     "execution_count": 10,
     "metadata": {},
     "output_type": "execute_result"
    }
   ],
   "source": [
    "# Create a set of the account keys for all Udacity test accounts\n",
    "udacity_test_accounts = set()\n",
    "for enrollment in enrollments:\n",
    "    if enrollment['is_udacity']:\n",
    "        udacity_test_accounts.add(enrollment['account_key'])\n",
    "len(udacity_test_accounts)"
   ]
  },
  {
   "cell_type": "code",
   "execution_count": 11,
   "metadata": {},
   "outputs": [],
   "source": [
    "# Given some data with an account_key field, removes any records corresponding to Udacity test accounts\n",
    "def remove_udacity_accounts(data):\n",
    "    non_udacity_data = []\n",
    "    for data_point in data:\n",
    "        if data_point['account_key'] not in udacity_test_accounts:\n",
    "            non_udacity_data.append(data_point)\n",
    "    return non_udacity_data"
   ]
  },
  {
   "cell_type": "code",
   "execution_count": 12,
   "metadata": {},
   "outputs": [
    {
     "name": "stdout",
     "output_type": "stream",
     "text": [
      "1622\n",
      "135656\n",
      "3634\n"
     ]
    }
   ],
   "source": [
    "# Remove Udacity test accounts from all three tables\n",
    "non_udacity_enrollments = remove_udacity_accounts(enrollments)\n",
    "non_udacity_engagement = remove_udacity_accounts(daily_engagement)\n",
    "non_udacity_submissions = remove_udacity_accounts(project_submissions)\n",
    "\n",
    "print(len(non_udacity_enrollments))\n",
    "print(len(non_udacity_engagement))\n",
    "print(len(non_udacity_submissions))"
   ]
  },
  {
   "cell_type": "markdown",
   "metadata": {},
   "source": [
    "## Refining the Question"
   ]
  },
  {
   "cell_type": "code",
   "execution_count": 13,
   "metadata": {},
   "outputs": [
    {
     "data": {
      "text/plain": [
       "datetime.datetime(2015, 1, 9, 0, 0)"
      ]
     },
     "execution_count": 13,
     "metadata": {},
     "output_type": "execute_result"
    }
   ],
   "source": [
    "#####################################\n",
    "#                 6                 #\n",
    "#####################################\n",
    "\n",
    "## Create a dictionary named paid_students containing all students who either\n",
    "## haven't canceled yet or who remained enrolled for more than 7 days. The keys\n",
    "## should be account keys, and the values should be the date the student enrolled.\n",
    "\n",
    "paid_students = {}\n",
    "for enrollment in non_udacity_enrollments:\n",
    "    paid__ = {}\n",
    "    if enrollment['days_to_cancel'] is None or enrollment['days_to_cancel'] > 7:   \n",
    "        account_key = enrollment['account_key'] \n",
    "        if account_key not in paid_students.keys() or enrollment['join_date'] > paid_students[account_key]:\n",
    "            paid_students[account_key] = enrollment['join_date']\n",
    "        \n",
    "len(paid_students)\n",
    "paid_students['0']\n"
   ]
  },
  {
   "cell_type": "markdown",
   "metadata": {},
   "source": [
    "## Getting Data from First Week"
   ]
  },
  {
   "cell_type": "code",
   "execution_count": 14,
   "metadata": {},
   "outputs": [],
   "source": [
    "# Takes a student's join date and the date of a specific engagement record,\n",
    "# and returns True if that engagement record happened within one week\n",
    "# of the student joining.\n",
    "def within_one_week(join_date, engagement_date):\n",
    "    time_delta = engagement_date - join_date\n",
    "    return time_delta.days < 7 and time_delta.days >= 0"
   ]
  },
  {
   "cell_type": "code",
   "execution_count": 15,
   "metadata": {},
   "outputs": [
    {
     "data": {
      "text/plain": [
       "OrderedDict([('utc_date', datetime.datetime(2015, 1, 9, 0, 0)),\n",
       "             ('num_courses_visited', 1),\n",
       "             ('total_minutes_visited', 11.6793745),\n",
       "             ('lessons_completed', 0),\n",
       "             ('projects_completed', 0),\n",
       "             ('account_key', '0')])"
      ]
     },
     "execution_count": 15,
     "metadata": {},
     "output_type": "execute_result"
    }
   ],
   "source": [
    "#####################################\n",
    "#                 7                 #\n",
    "#####################################\n",
    "\n",
    "## Create a list of rows from the engagement table including only rows where\n",
    "## the student is one of the paid students you just found, and the date is within\n",
    "## one week of the student's join date.\n",
    "\n",
    "paid_engagement_in_first_week = []\n",
    "for engagement in non_udacity_engagement:\n",
    "    try: \n",
    "        if within_one_week(paid_students[engagement['account_key']],engagement['utc_date']):\n",
    "            paid_engagement_in_first_week.append(engagement)\n",
    "    except KeyError:\n",
    "        pass\n",
    "paid_engagement_in_first_week[0]\n",
    "\n"
   ]
  },
  {
   "cell_type": "markdown",
   "metadata": {},
   "source": [
    "## Exploring Student Engagement"
   ]
  },
  {
   "cell_type": "code",
   "execution_count": 16,
   "metadata": {},
   "outputs": [],
   "source": [
    "from collections import defaultdict\n",
    "\n",
    "# Create a dictionary of engagement grouped by student.\n",
    "# The keys are account keys, and the values are lists of engagement records.\n",
    "engagement_by_account = defaultdict(list)\n",
    "for engagement_record in paid_engagement_in_first_week:\n",
    "    account_key = engagement_record['account_key']\n",
    "    engagement_by_account[account_key].append(engagement_record)"
   ]
  },
  {
   "cell_type": "code",
   "execution_count": 17,
   "metadata": {},
   "outputs": [],
   "source": [
    "# Create a dictionary with the total minutes each student spent in the classroom during the first week.\n",
    "# The keys are account keys, and the values are numbers (total minutes)\n",
    "total_minutes_by_account = {}\n",
    "total_lessons_by_account = {}\n",
    "for account_key, engagement_for_student in engagement_by_account.items():\n",
    "    total_minutes = 0\n",
    "    for engagement_record in engagement_for_student:\n",
    "        total_minutes += engagement_record['total_minutes_visited']\n",
    "    total_minutes_by_account[account_key] = total_minutes\n",
    "    total_lessons = 0\n",
    "    for engagement_record in engagement_for_student:\n",
    "        total_lessons += engagement_record['lessons_completed']\n",
    "    total_lessons_by_account[account_key] = total_lessons"
   ]
  },
  {
   "cell_type": "code",
   "execution_count": 18,
   "metadata": {},
   "outputs": [
    {
     "name": "stdout",
     "output_type": "stream",
     "text": [
      "Mean: 306.70832675342825\n",
      "Standard deviation: 412.99693340852957\n",
      "Minimum: 0.0\n",
      "Maximum: 3564.7332644989997\n"
     ]
    }
   ],
   "source": [
    "import numpy as np\n",
    "\n",
    "# Summarize the data about minutes spent in the classroom\n",
    "total_minutes = list(total_minutes_by_account.values())\n",
    "print('Mean:', np.mean(total_minutes))\n",
    "print('Standard deviation:', np.std(total_minutes))\n",
    "print('Minimum:', np.min(total_minutes))\n",
    "print('Maximum:', np.max(total_minutes))"
   ]
  },
  {
   "cell_type": "markdown",
   "metadata": {},
   "source": [
    "## Debugging Data Analysis Code"
   ]
  },
  {
   "cell_type": "code",
   "execution_count": 19,
   "metadata": {},
   "outputs": [
    {
     "name": "stdout",
     "output_type": "stream",
     "text": [
      "OrderedDict([('utc_date', datetime.datetime(2015, 7, 9, 0, 0)), ('num_courses_visited', 4), ('total_minutes_visited', 850.519339666), ('lessons_completed', 4), ('projects_completed', 0), ('account_key', '163')])\n",
      "OrderedDict([('utc_date', datetime.datetime(2015, 7, 10, 0, 0)), ('num_courses_visited', 6), ('total_minutes_visited', 872.633923334), ('lessons_completed', 6), ('projects_completed', 0), ('account_key', '163')])\n",
      "OrderedDict([('utc_date', datetime.datetime(2015, 7, 11, 0, 0)), ('num_courses_visited', 2), ('total_minutes_visited', 777.018903666), ('lessons_completed', 6), ('projects_completed', 0), ('account_key', '163')])\n",
      "OrderedDict([('utc_date', datetime.datetime(2015, 7, 12, 0, 0)), ('num_courses_visited', 1), ('total_minutes_visited', 294.568774), ('lessons_completed', 2), ('projects_completed', 0), ('account_key', '163')])\n",
      "OrderedDict([('utc_date', datetime.datetime(2015, 7, 13, 0, 0)), ('num_courses_visited', 3), ('total_minutes_visited', 471.2139785), ('lessons_completed', 1), ('projects_completed', 0), ('account_key', '163')])\n",
      "OrderedDict([('utc_date', datetime.datetime(2015, 7, 14, 0, 0)), ('num_courses_visited', 2), ('total_minutes_visited', 298.778345333), ('lessons_completed', 1), ('projects_completed', 0), ('account_key', '163')])\n",
      "OrderedDict([('utc_date', datetime.datetime(2015, 7, 15, 0, 0)), ('num_courses_visited', 0), ('total_minutes_visited', 0.0), ('lessons_completed', 0), ('projects_completed', 0), ('account_key', '163')])\n"
     ]
    }
   ],
   "source": [
    "#####################################\n",
    "#                 8                 #\n",
    "#####################################\n",
    "\n",
    "## Go through a similar process as before to see if there is a problem.\n",
    "## Locate at least one surprising piece of data, output it, and take a look at it.\n",
    "for account_key in total_minutes_by_account.keys():\n",
    "    if total_minutes_by_account[account_key] > 3560:\n",
    "        for engagement in paid_engagement_in_first_week:\n",
    "            if engagement['account_key'] == account_key:\n",
    "                print(engagement)\n",
    "        break\n",
    "    "
   ]
  },
  {
   "cell_type": "markdown",
   "metadata": {},
   "source": [
    "## Lessons Completed in First Week"
   ]
  },
  {
   "cell_type": "code",
   "execution_count": 20,
   "metadata": {},
   "outputs": [
    {
     "name": "stdout",
     "output_type": "stream",
     "text": [
      "Mean: 1.636180904522613\n",
      "Standard deviation: 3.002561299829423\n",
      "Minimum: 0\n",
      "Maximum: 36\n"
     ]
    }
   ],
   "source": [
    "#####################################\n",
    "#                 9                 #\n",
    "#####################################\n",
    "\n",
    "## Adapt the code above to find the mean, standard deviation, minimum, and maximum for\n",
    "## the number of lessons completed by each student during the first week. Try creating\n",
    "## one or more functions to re-use the code above.\n",
    "total_lessons = list(total_lessons_by_account.values())\n",
    "print('Mean:', np.mean(total_lessons))\n",
    "print('Standard deviation:', np.std(total_lessons))\n",
    "print('Minimum:', np.min(total_lessons))\n",
    "print('Maximum:', np.max(total_lessons))\n",
    "\n",
    "\n"
   ]
  },
  {
   "cell_type": "markdown",
   "metadata": {},
   "source": [
    "## Number of Visits in First Week"
   ]
  },
  {
   "cell_type": "code",
   "execution_count": 21,
   "metadata": {},
   "outputs": [
    {
     "name": "stdout",
     "output_type": "stream",
     "text": [
      "[7, 2, 0, 0, 1, 5, 6, 3, 7, 4, 3, 0, 2, 6, 1, 5, 2, 2, 4, 0, 5, 7, 5, 7, 3, 0, 3, 5, 4, 5, 2, 0, 2, 5, 1, 6, 7, 7, 0, 4, 5, 4, 6, 2, 0, 0, 1, 6, 7, 0, 7, 0, 1, 3, 5, 4, 4, 3, 7, 1, 0, 6, 2, 5, 4, 6, 1, 6, 0, 0, 3, 3, 6, 0, 3, 1, 4, 4, 0, 3, 2, 3, 6, 4, 6, 3, 0, 4, 0, 3, 3, 2, 3, 5, 0, 1, 1, 5, 4, 3, 4, 2, 6, 6, 2, 1, 3, 4, 6, 5, 1, 6, 2, 4, 3, 7, 3, 7, 5, 3, 6, 5, 0, 1, 7, 1, 3, 3, 1, 0, 0, 6, 3, 7, 5, 1, 3, 1, 1, 7, 6, 2, 3, 5, 5, 3, 0, 0, 1, 4, 7, 5, 1, 6, 0, 6, 1, 0, 0, 7, 6, 6, 6, 6, 6, 0, 0, 2, 1, 5, 7, 6, 1, 6, 7, 5, 5, 6, 7, 2, 5, 3, 4, 4, 0, 4, 7, 1, 5, 1, 4, 5, 4, 6, 6, 6, 7, 6, 6, 7, 0, 3, 7, 7, 4, 7, 5, 4, 1, 3, 6, 3, 4, 1, 5, 3, 0, 7, 5, 4, 3, 3, 3, 2, 7, 6, 4, 5, 2, 5, 1, 7, 2, 5, 0, 6, 5, 4, 1, 0, 4, 7, 2, 3, 4, 6, 1, 4, 2, 3, 6, 0, 6, 4, 0, 3, 6, 5, 5, 0, 1, 5, 5, 3, 6, 3, 4, 2, 6, 6, 7, 3, 7, 2, 5, 7, 0, 1, 5, 0, 3, 1, 1, 1, 2, 5, 1, 6, 5, 0, 3, 5, 4, 5, 3, 3, 3, 0, 2, 5, 3, 7, 2, 7, 0, 1, 5, 4, 5, 2, 7, 7, 5, 7, 7, 3, 3, 5, 0, 0, 4, 7, 4, 6, 3, 5, 5, 4, 3, 3, 1, 0, 3, 2, 0, 1, 0, 3, 2, 0, 2, 7, 5, 3, 5, 0, 2, 3, 6, 4, 3, 4, 4, 2, 2, 2, 6, 7, 5, 3, 0, 0, 1, 2, 7, 6, 1, 0, 1, 3, 5, 1, 2, 1, 6, 0, 2, 2, 0, 2, 3, 6, 4, 0, 0, 7, 2, 2, 0, 6, 1, 6, 1, 0, 2, 2, 4, 3, 0, 0, 5, 7, 5, 1, 3, 3, 2, 5, 0, 2, 4, 1, 0, 7, 3, 1, 1, 3, 1, 5, 3, 0, 5, 0, 3, 5, 0, 6, 1, 5, 2, 5, 6, 5, 1, 4, 7, 2, 7, 1, 6, 0, 2, 4, 1, 1, 7, 1, 1, 6, 2, 6, 2, 3, 0, 6, 5, 1, 3, 5, 2, 2, 3, 4, 3, 6, 2, 3, 0, 3, 2, 1, 5, 2, 6, 0, 4, 2, 7, 1, 6, 3, 6, 1, 6, 2, 4, 0, 7, 4, 5, 7, 4, 5, 6, 2, 1, 7, 1, 4, 5, 2, 1, 5, 4, 2, 4, 1, 6, 3, 3, 4, 7, 6, 2, 2, 4, 5, 2, 0, 0, 5, 3, 5, 0, 7, 5, 4, 6, 5, 5, 0, 1, 1, 5, 7, 2, 6, 3, 7, 5, 3, 0, 3, 1, 1, 0, 6, 3, 3, 4, 4, 7, 0, 3, 1, 2, 2, 1, 2, 6, 1, 3, 1, 7, 2, 0, 7, 7, 0, 4, 6, 4, 1, 2, 7, 2, 1, 7, 0, 5, 2, 1, 2, 1, 0, 0, 6, 0, 0, 3, 6, 6, 4, 4, 2, 0, 6, 5, 7, 4, 4, 4, 4, 1, 5, 6, 2, 5, 3, 2, 4, 3, 4, 5, 4, 3, 4, 5, 7, 0, 2, 6, 2, 3, 4, 4, 1, 7, 4, 1, 4, 2, 3, 0, 5, 4, 3, 4, 7, 6, 1, 2, 7, 3, 7, 5, 5, 3, 0, 0, 5, 2, 0, 4, 3, 0, 3, 3, 1, 5, 2, 1, 1, 2, 1, 2, 0, 0, 1, 0, 4, 4, 1, 2, 0, 0, 0, 7, 3, 1, 5, 2, 6, 0, 1, 5, 3, 1, 0, 2, 3, 0, 3, 6, 0, 5, 5, 0, 4, 2, 1, 1, 4, 1, 0, 4, 0, 4, 2, 2, 1, 6, 0, 0, 3, 2, 1, 0, 0, 4, 4, 1, 2, 0, 3, 6, 0, 3, 0, 0, 6, 4, 0, 1, 2, 3, 1, 5, 6, 0, 1, 0, 6, 1, 3, 1, 2, 0, 1, 1, 0, 2, 1, 0, 5, 5, 2, 1, 5, 1, 2, 3, 0, 0, 5, 1, 1, 0, 0, 2, 2, 1, 1, 1, 1, 0, 3, 5, 3, 1, 0, 0, 1, 0, 1, 3, 1, 1, 0, 1, 1, 2, 6, 3, 0, 3, 2, 3, 0, 0, 1, 2, 2, 0, 0, 1, 2, 1, 3, 1, 3, 3, 1, 0, 5, 1, 5, 2, 2, 2, 1, 1, 1, 5, 0, 4, 2, 6, 1, 0, 3, 1, 5, 1, 2, 0, 0, 6, 1, 6, 2, 4, 0, 1, 1, 5, 2, 2, 7, 0, 0, 1, 2, 0, 1, 1, 1, 1, 0, 3, 5, 0, 7, 5, 0, 1, 7, 0, 0, 3, 0, 3, 1, 1, 0, 2, 3, 0, 1, 0, 5, 1, 4, 6, 3, 0, 0, 2, 2, 0, 1, 0, 0, 2, 2, 1, 0, 1, 2, 4, 0, 5, 3, 0, 3, 0, 2, 1, 7, 2, 2, 5, 0, 0, 1, 1, 2, 5, 0, 2, 1, 1, 7, 1, 0, 1, 2, 3, 2, 3, 3, 2, 1, 1, 6, 2, 2, 7, 0, 1, 1, 3, 2, 6, 0, 0, 1, 7, 6, 1, 2, 1, 0, 0, 0, 4, 3, 0, 0, 2, 1, 3, 1, 1, 1, 1, 0, 3, 2, 0, 0, 0, 6, 1, 0, 0, 0, 1, 1, 3, 2, 0, 0, 2, 1, 0, 1, 3, 6, 3, 0, 0, 0, 2]\n",
      "Mean: 2.8673366834170855\n",
      "Standard deviation: 2.2551980029196814\n",
      "Minimum: 0\n",
      "Maximum: 7\n"
     ]
    }
   ],
   "source": [
    "######################################\n",
    "#                 10                 #\n",
    "######################################\n",
    "\n",
    "## Find the mean, standard deviation, minimum, and maximum for the number of\n",
    "## days each student visits the classroom during the first week.\n",
    "for engagement in paid_engagement_in_first_week:\n",
    "    if engagement['num_courses_visited'] > 0 :\n",
    "        engagement['has_visited'] = 1\n",
    "    else:\n",
    "        engagement['has_visited'] = 0\n",
    "\n",
    "visits_by_account = defaultdict(int)\n",
    "for engagement_record in paid_engagement_in_first_week:\n",
    "    account_key = engagement_record['account_key']\n",
    "    visits_by_account[account_key] += engagement_record['has_visited']\n",
    "\n",
    "\n",
    "total_visits = []\n",
    "for account, visits in visits_by_account.items():\n",
    "    total_visits.append(visits)\n",
    "print(total_visits)\n",
    "\n",
    "print('Mean:', np.mean(total_visits))\n",
    "print('Standard deviation:', np.std(total_visits))\n",
    "print('Minimum:', np.min(total_visits))\n",
    "print('Maximum:', np.max(total_visits))\n",
    "    \n",
    "\n",
    "        \n",
    "\n",
    "    "
   ]
  },
  {
   "cell_type": "markdown",
   "metadata": {},
   "source": [
    "## Splitting out Passing Students"
   ]
  },
  {
   "cell_type": "code",
   "execution_count": 22,
   "metadata": {},
   "outputs": [
    {
     "name": "stdout",
     "output_type": "stream",
     "text": [
      "4527\n",
      "2392\n"
     ]
    }
   ],
   "source": [
    "######################################\n",
    "#                 11                 #\n",
    "######################################\n",
    "\n",
    "## Create two lists of engagement data for paid students in the first week.\n",
    "## The first list should contain data for students who eventually pass the\n",
    "## subway project, and the second list should contain data for students\n",
    "## who do not.\n",
    "\n",
    "subway_project_lesson_keys = ['746169184', '3176718735']\n",
    "passed_accounts = set()\n",
    "nonpassed_accounts = set()\n",
    "for submission in non_udacity_submissions:\n",
    "    if submission['lesson_key'] in subway_project_lesson_keys:\n",
    "        if submission['assigned_rating'] == \"PASSED\" or submission['assigned_rating'] == 'DISTINCTION':\n",
    "            passed_accounts.add(submission['account_key'])\n",
    "        else:\n",
    "            nonpassed_accounts.add(submission['account_key'])\n",
    "\n",
    "passing_engagement =  []\n",
    "non_passing_engagement =[]\n",
    "\n",
    "for engagement in paid_engagement_in_first_week:\n",
    "    if engagement['account_key'] in passed_accounts:\n",
    "        passing_engagement.append(engagement)\n",
    "    else:\n",
    "        non_passing_engagement.append(engagement)\n",
    "\n",
    "print(len(passing_engagement))\n",
    "print(len(non_passing_engagement))\n",
    "\n",
    "\n"
   ]
  },
  {
   "cell_type": "code",
   "execution_count": 31,
   "metadata": {},
   "outputs": [],
   "source": [
    "def sep_pass_nonpass(by_account_list,passed_accounts):\n",
    "    passed_list = []\n",
    "    nonpassed_list = []\n",
    "    for account,data in by_account_list.items():\n",
    "        if account in passed_accounts:\n",
    "            passed_list.append(data)\n",
    "        else:\n",
    "            nonpassed_list.append(data)\n",
    "    return passed_list,nonpassed_list\n",
    "    "
   ]
  },
  {
   "cell_type": "code",
   "execution_count": 37,
   "metadata": {},
   "outputs": [],
   "source": [
    "%matplotlib inline\n",
    "import matplotlib.pyplot as plt\n",
    "import seaborn as sns\n",
    "\n",
    "def printresults(data):\n",
    "    print('Mean:', np.mean(data))\n",
    "    print('Standard deviation:', np.std(data))\n",
    "    print('Minimum:', np.min(data))\n",
    "    print('Maximum:', np.max(data))\n",
    "    plt.xlabel(\"data\")\n",
    "    plt.ylabel(\"Students\")\n",
    "    plt.hist(data,)"
   ]
  },
  {
   "cell_type": "code",
   "execution_count": 38,
   "metadata": {},
   "outputs": [
    {
     "name": "stdout",
     "output_type": "stream",
     "text": [
      "124.0\n",
      "3.275826972010178\n"
     ]
    }
   ],
   "source": [
    "passed_subtime = []\n",
    "nonpassed_subtime = []\n",
    "for submission in non_udacity_submissions:\n",
    "    if submission['assigned_rating'] == 'PASSED' or submission['assigned_rating'] == 'DISTINCTION':\n",
    "        try: \n",
    "            passed_subtime.append(((submission['completion_date']-submission['creation_date']).total_seconds())/3600/24)\n",
    "        except TypeError:\n",
    "            pass\n",
    "    else: \n",
    "        try: \n",
    "            nonpassed_subtime.append(((submission['completion_date']-submission['creation_date']).total_seconds())/3600/24)\n",
    "        except TypeError:\n",
    "            pass\n",
    "    \n",
    "print(np.max(passed_subtime))\n",
    "print(np.mean(nonpassed_subtime))\n"
   ]
  },
  {
   "cell_type": "markdown",
   "metadata": {},
   "source": [
    "## Comparing the Two Student Groups"
   ]
  },
  {
   "cell_type": "code",
   "execution_count": 39,
   "metadata": {},
   "outputs": [
    {
     "name": "stdout",
     "output_type": "stream",
     "text": [
      "124.0\n"
     ]
    }
   ],
   "source": [
    "print(max(passed_subtime))"
   ]
  },
  {
   "cell_type": "code",
   "execution_count": 40,
   "metadata": {},
   "outputs": [
    {
     "name": "stdout",
     "output_type": "stream",
     "text": [
      "Mean: 394.58604648350865\n",
      "Standard deviation: 448.4995193265521\n",
      "Minimum: 0.0\n",
      "Maximum: 3564.7332644989997\n"
     ]
    },
    {
     "data": {
      "image/png": "[encoded data removed]",
      "text/plain": [
       "<Figure size 432x288 with 1 Axes>"
      ]
     },
     "metadata": {
      "needs_background": "light"
     },
     "output_type": "display_data"
    }
   ],
   "source": [
    "######################################\n",
    "#                 12                 #\n",
    "######################################\n",
    "\n",
    "## Compute some metrics you're interested in and see how they differ for\n",
    "## students who pass the subway project vs. students who don't. A good\n",
    "## starting point would be the metrics we looked at earlier (minutes spent\n",
    "## in the classroom, lessons completed, and days visited).\n",
    "\n",
    "passing_visits = []\n",
    "nonpassing_visits = []\n",
    "\n",
    "passing_visits, nonpassing_visits = sep_pass_nonpass(visits_by_account, passed_accounts)\n",
    "passing_minutes, nonpassing_minutes = sep_pass_nonpass(total_minutes_by_account, passed_accounts)\n",
    "passing_lessons, nonpassing_lessons = sep_pass_nonpass(total_lessons_by_account, passed_accounts)\n",
    "#printresults(passing_visits)\n",
    "#printresults(nonpassing_visits)\n",
    "printresults(passing_minutes)\n",
    "#printresults(nonpassing_minutes)\n",
    "#printresults(passing_lessons)\n",
    "#printresults(nonpassing_lessons)\n",
    "\n",
    "\n",
    "    "
   ]
  },
  {
   "cell_type": "markdown",
   "metadata": {},
   "source": [
    "## Making Histograms"
   ]
  },
  {
   "cell_type": "code",
   "execution_count": 28,
   "metadata": {},
   "outputs": [],
   "source": [
    "######################################\n",
    "#                 13                 #\n",
    "######################################\n",
    "\n",
    "## Make histograms of the three metrics we looked at earlier for both\n",
    "## students who passed the subway project and students who didn't. You\n",
    "## might also want to make histograms of any other metrics you examined.\n",
    "\n"
   ]
  },
  {
   "cell_type": "markdown",
   "metadata": {},
   "source": [
    "## Improving Plots and Sharing Findings"
   ]
  },
  {
   "cell_type": "code",
   "execution_count": 29,
   "metadata": {},
   "outputs": [],
   "source": [
    "######################################\n",
    "#                 14                 #\n",
    "######################################\n",
    "\n",
    "## Make a more polished version of at least one of your visualizations\n",
    "## from earlier. Try importing the seaborn library to make the visualization\n",
    "## look better, adding axis labels and a title, and changing one or more\n",
    "## arguments to the hist() function."
   ]
  }
 ],
 "metadata": {
  "kernelspec": {
   "display_name": "Python 3",
   "language": "python",
   "name": "python3"
  },
  "language_info": {
   "codemirror_mode": {
    "name": "ipython",
    "version": 3
   },
   "file_extension": ".py",
   "mimetype": "text/x-python",
   "name": "python",
   "nbconvert_exporter": "python",
   "pygments_lexer": "ipython3",
   "version": "3.7.1"
  }
 },
 "nbformat": 4,
 "nbformat_minor": 1
}
